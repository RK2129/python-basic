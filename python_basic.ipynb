{
  "nbformat": 4,
  "nbformat_minor": 0,
  "metadata": {
    "colab": {
      "provenance": []
    },
    "kernelspec": {
      "name": "python3",
      "display_name": "Python 3"
    },
    "language_info": {
      "name": "python"
    }
  },
  "cells": [
    {
      "cell_type": "markdown",
      "source": [
        "# PYTHON BASIC\n"
      ],
      "metadata": {
        "id": "87DmuZhKCA10"
      }
    },
    {
      "cell_type": "markdown",
      "source": [],
      "metadata": {
        "id": "XSPF_WaXCK_9"
      }
    },
    {
      "cell_type": "markdown",
      "source": [],
      "metadata": {
        "id": "6MXxgdPGCMRt"
      }
    },
    {
      "cell_type": "markdown",
      "source": [
        "1. What is Python, and why is it popular?\n",
        " -->  python is programing language it help to telll a computer what to do\n",
        " popular reason\n",
        " * Easy to learn\n",
        " * used everywhere\n",
        " * big community\n",
        " *  its very power full\n",
        "\n",
        "\n",
        "2.What is an interpreter in Python\n",
        "\n",
        " -->An interpreter is a program that reads and runs your Python code line by line.\n",
        "\n",
        "3. What are pre-defined keywords in Python\n",
        "\n",
        "--> pre defined keywords means reserve  words in memomry which means have speciel use case it cannot use as a variable\n",
        "\n",
        "4. Can keywords be used as variable names\n",
        "\n",
        "--> No keywords cannot be used as variable names because keywords are reserve words in memory\n",
        "\n",
        "5. What is mutability in Python\n",
        "\n",
        "-->it means value can be changed after its created\n",
        "\n",
        "6. Why are lists mutable, but tuples are immutable\n",
        "\n",
        "--> lists are mutable it can change easily we can add and remove or update things\n",
        "Tuples are immutable it cannot be changed it are made up fixed and safe\n",
        "once they created  they cannot be update\n",
        "\n",
        "7. What is the difference between “==” and “is” operators in Python\n",
        "\n",
        "-->== its check the value inside are equal or not\n",
        "is check two variables point the same object in the memory\n",
        "\n",
        "x = [1, 2, 3]\n",
        "\n",
        "y = x\n",
        "\n",
        "print(x is y)\n",
        "\n",
        "example of is\n",
        "\n",
        "8. What are logical operators in Python\n",
        "\n",
        "-->Logical operators are used to combine two or more conditions.\n",
        "They help your program decide what to do based on True or False values.Logical operators are used to combine two or more conditions.\n",
        "They help your program decide what to do based on True or False values.\n",
        "\n",
        "9. What is type casting in Python\n",
        " --> Type casting means changing one datatype to another\n",
        " exampple int to float:\n",
        "          float to int\n",
        "\n",
        "\n",
        "10. What is the difference between implicit and explicit type casting\n",
        "\n",
        "-->Implicit\n",
        " Python automatically converts the data type when needed.\n",
        "\n",
        "You don’t write any code to convert the type.\n",
        "\n",
        "Python does it on its own during operations.\n",
        "\n",
        "Explicit\n",
        "\n",
        "manually convert data type into another\n",
        " you tell thw python what to  convert using\n",
        " int,float, str, bool etc\n",
        "\n",
        "\n",
        "11. What is the purpose of conditional statements in Python\n",
        "\n",
        "-->Conditional statements are used to make decisions in a Python program. They allow the code to choose different actions based on different conditions.\n",
        "\n",
        "12. How does the elif statement work\n",
        "\n",
        "--> the elif statement when multiple conditon are check not just one  it check another condition the statment can be true or not.\n",
        "\n",
        "13. What is the difference between for and while loops\n",
        "\n",
        "--> FOR  are used when know how many times are loop are run in sequence manner\n",
        "\n",
        "WHILE  are statemnt are run when conditon is true  he dont know how many times it repeat mostly\n",
        "\n",
        "\n",
        "14.  Describe a scenario where a while loop is more suitable than a for loop.\n",
        "\n",
        "--> You want to keep asking the user to enter the correct password.\n",
        "You don’t know how many times it will take, so you can't use a for loop.\n",
        "\n",
        "You don’t know how many attempts the user will need.\n",
        "\n",
        "You just need to keep looping until the correct password is entered.\n",
        "\n",
        "A for loop is not ideal because it's used when the number of repetitions is fixed or known.\n",
        "\n",
        "\n",
        "\n",
        "\n",
        "\n",
        "\n",
        "\n",
        "\n",
        "\n",
        "\n",
        "\n",
        "\n",
        "\n",
        "\n",
        "\n",
        "\n"
      ],
      "metadata": {
        "id": "FvvK-qP1CX55"
      }
    },
    {
      "cell_type": "code",
      "source": [
        "correct_password = \"admin123\"\n",
        "user_input = \"\"\n",
        "\n",
        "while user_input != correct_password:\n",
        "    user_input = input(\"Enter your password: \")\n",
        "\n",
        "print(\"Access granted!\")\n"
      ],
      "metadata": {
        "id": "JiUf3PbwMXqq"
      },
      "execution_count": null,
      "outputs": []
    },
    {
      "cell_type": "markdown",
      "source": [
        "#Practical  Questions\n"
      ],
      "metadata": {
        "id": "NCi9Sq9FMk0X"
      }
    },
    {
      "cell_type": "markdown",
      "source": [
        "1.Write a Python program to print \"Hello, World!y\n"
      ],
      "metadata": {
        "id": "pVXOQkGPM_2T"
      }
    },
    {
      "cell_type": "code",
      "source": [
        "print(\"Hello ,world\")"
      ],
      "metadata": {
        "colab": {
          "base_uri": "https://localhost:8080/"
        },
        "id": "7IDBUizWNIBe",
        "outputId": "1478b9ea-40f9-434a-f1aa-365c90fafb0e"
      },
      "execution_count": 2,
      "outputs": [
        {
          "output_type": "stream",
          "name": "stdout",
          "text": [
            "Hello ,world\n"
          ]
        }
      ]
    },
    {
      "cell_type": "markdown",
      "source": [],
      "metadata": {
        "id": "9now1p5yM9YI"
      }
    },
    {
      "cell_type": "markdown",
      "source": [
        "2. 8 Write a Python program that displays your name and age8"
      ],
      "metadata": {
        "id": "rMnGca4nNb06"
      }
    },
    {
      "cell_type": "code",
      "source": [
        "Name=input(\"enter your name\")\n",
        "age=int(input(\"enter your age\"))\n",
        "print(\"Name =\"+ Name)\n",
        "print(\"age =\"+ str(age))"
      ],
      "metadata": {
        "colab": {
          "base_uri": "https://localhost:8080/"
        },
        "id": "sgZiNtMnNfus",
        "outputId": "18f9a3da-286e-4235-c206-bf8e7cc8332f"
      },
      "execution_count": 7,
      "outputs": [
        {
          "output_type": "stream",
          "name": "stdout",
          "text": [
            "enter your namesdjahdsa\n",
            "enter your age45\n",
            "Name =sdjahdsa\n",
            "age =45\n"
          ]
        }
      ]
    },
    {
      "cell_type": "markdown",
      "source": [
        "3. Write code to print all the pre-defined keywords in Python using the keyword library"
      ],
      "metadata": {
        "id": "84en8Ta0OS8F"
      }
    },
    {
      "cell_type": "code",
      "source": [
        "import keyword\n",
        "print(keyword.kwlist)\n"
      ],
      "metadata": {
        "id": "YPT12QqVOYoh"
      },
      "execution_count": null,
      "outputs": []
    },
    {
      "cell_type": "markdown",
      "source": [
        "4. Write a program that checks if a given word is a Python keyword."
      ],
      "metadata": {
        "id": "WELKnubhOwRA"
      }
    },
    {
      "cell_type": "code",
      "source": [
        "import keyword\n",
        "\n",
        "# Take input from the user\n",
        "word = input(\"Enter a word: \")\n",
        "\n",
        "# Check if the word is a Python keyword\n",
        "if keyword.iskeyword(word):\n",
        "    print(f\"'{word}' is a Python keyword.\")\n",
        "else:\n",
        "    print(f\"'{word}' is NOT a Python keyword.\")\n"
      ],
      "metadata": {
        "id": "mfx2PTlSO-Zd"
      },
      "execution_count": null,
      "outputs": []
    },
    {
      "cell_type": "markdown",
      "source": [
        "5.  Create a list and tuple in Python, and demonstrate how attempting to change an element works difference for each"
      ],
      "metadata": {
        "id": "CwHzs33KPA2s"
      }
    },
    {
      "cell_type": "code",
      "source": [
        "# Creating a list and a tuple\n",
        "my_list = [10, 20, 30]\n",
        "my_tuple = (10, 20, 30)\n",
        "\n",
        "# Function to attempt modification using a loop\n",
        "def modify(sequence):\n",
        "    print(\"\\nOriginal:\", sequence)\n",
        "\n",
        "    # Check if it's a list (mutable) or tuple (immutable)\n",
        "    if isinstance(sequence, list):\n",
        "        sequence[1] = 200\n",
        "        print(\"Modified (list is mutable):\", sequence)\n",
        "    elif isinstance(sequence, tuple):\n",
        "        print(\"Tuple is immutable. Cannot modify elements.\")\n",
        "    else:\n",
        "        print(\"Unknown data type.\")\n",
        "\n",
        "modify(my_list)\n",
        "modify(my_tuple)\n",
        "\n"
      ],
      "metadata": {
        "id": "SSpEOb6iP2uR"
      },
      "execution_count": null,
      "outputs": []
    },
    {
      "cell_type": "markdown",
      "source": [
        "6. Write a function to demonstrate the behavior of mutable and immutable arguments"
      ],
      "metadata": {
        "id": "GfkekkaWP4sr"
      }
    },
    {
      "cell_type": "code",
      "source": [
        "def modify_arguments(a, b):\n",
        "    print(\"\\nInside function (before modification):\")\n",
        "    print(\"a (immutable):\", a)\n",
        "    print(\"b (mutable):\", b)\n",
        "\n",
        "    a += 10\n",
        "    b.append(100)\n",
        "\n",
        "    print(\"\\nInside function (after modification):\")\n",
        "    print(\"a (immutable):\", a)\n",
        "    print(\"b (mutable):\", b)\n",
        "\n",
        "\n",
        "x = 5\n",
        "\n",
        "\n",
        "y = [1, 2, 3]\n",
        "\n",
        "print(\"Before function call:\")\n",
        "print(\"x:\", x)\n",
        "print(\"y:\", y)\n",
        "\n",
        "\n",
        "modify_arguments(x, y)\n",
        "\n",
        "print(\"\\nAfter function call:\")\n",
        "print(\"x:\", x)\n",
        "print(\"y:\", y)\n"
      ],
      "metadata": {
        "id": "CmNvMtWAP9cx"
      },
      "execution_count": null,
      "outputs": []
    },
    {
      "cell_type": "markdown",
      "source": [
        "7. Write a program that performs basic arithmetic operations on two user-input numbers"
      ],
      "metadata": {
        "id": "GWS_5UZTRMcy"
      }
    },
    {
      "cell_type": "code",
      "source": [
        "# Take input\n",
        "num1 = float(input(\"Enter first number: \"))\n",
        "num2 = float(input(\"Enter second number: \"))\n",
        "\n",
        "#  arithmetic operations\n",
        "print(\"\\nResults:\")\n",
        "print(\"Addition:\", num1 + num2)\n",
        "print(\"Subtraction:\", num1 - num2)\n",
        "print(\"Multiplication:\", num1 * num2)\n",
        "\n",
        "# Division operations with zero check\n",
        "if num2 != 0:\n",
        "    print(\"Division:\", num1 / num2)\n",
        "    print(\"Floor Division:\", num1 // num2)\n",
        "    print(\"Modulus:\", num1 % num2)\n",
        "else:\n",
        "    print(\"Division, Floor Division, and Modulus not possible (division by zero)\")\n",
        "\n",
        "# Exponentiation\n",
        "print(\"Exponentiation (num1^num2):\", num1 ** num2)\n"
      ],
      "metadata": {
        "id": "xgxki5IvRh3n"
      },
      "execution_count": null,
      "outputs": []
    },
    {
      "cell_type": "markdown",
      "source": [
        "8. Write a program to demonstrate the use of logical operators."
      ],
      "metadata": {
        "id": "lfQWGdhoRpdi"
      }
    },
    {
      "cell_type": "code",
      "source": [
        "# Input values from the user\n",
        "a = int(input(\"Enter first number: \"))\n",
        "b = int(input(\"Enter second number: \"))\n",
        "\n",
        "# Display comparison results\n",
        "print(\"\\nLogical Operations Results:\")\n",
        "\n",
        "# and operator\n",
        "print(f\"(a > 0 and b > 0): {a > 0 and b > 0}\")\n",
        "\n",
        "# or operator\n",
        "print(f\"(a > 0 or b > 0): {a > 0 or b > 0}\")\n",
        "\n",
        "# not operator\n",
        "print(f\"not (a > 0): {not (a > 0)}\")\n"
      ],
      "metadata": {
        "id": "HdG1xhaVRvt3"
      },
      "execution_count": null,
      "outputs": []
    },
    {
      "cell_type": "markdown",
      "source": [
        "9. Write a Python program to convert user input from string to integer, float, and boolean types."
      ],
      "metadata": {
        "id": "4nVqRHRUR-ya"
      }
    },
    {
      "cell_type": "code",
      "source": [
        "# Take input from the user as string\n",
        "user_input = input(\"Enter a value: \")\n",
        "\n",
        "# Convert to integer\n",
        "try:\n",
        "    int_value = int(user_input)\n",
        "    print(\"Integer value:\", int_value)\n",
        "except ValueError:\n",
        "    print(\"Cannot convert to integer.\")\n",
        "\n",
        "# Convert to float\n",
        "try:\n",
        "    float_value = float(user_input)\n",
        "    print(\"Float value:\", float_value)\n",
        "except ValueError:\n",
        "    print(\"Cannot convert to float.\")\n",
        "\n",
        "\n",
        "bool_value = bool(user_input)\n",
        "print(\"Boolean value:\", bool_value)\n"
      ],
      "metadata": {
        "id": "MBV8eCuNSKTw"
      },
      "execution_count": null,
      "outputs": []
    },
    {
      "cell_type": "markdown",
      "source": [
        "10. Write code to demonstrate type casting with list elements"
      ],
      "metadata": {
        "id": "vB2DO2v6SX9G"
      }
    },
    {
      "cell_type": "code",
      "source": [
        "# Original list with string representations of numbers\n",
        "str_list = ['1', '2', '3', '4.5', '5.6']\n",
        "\n",
        "# Cast strings to integers (only if possible)\n",
        "int_list = []\n",
        "for item in str_list:\n",
        "    if item.isdigit():\n",
        "        int_list.append(int(item))\n",
        "    else:\n",
        "        print(f\"Cannot convert '{item}' to int\")\n",
        "\n",
        "print(\"Integer list:\", int_list)\n",
        "\n",
        "# Cast all strings to float\n",
        "float_list = [float(item) for item in str_list]\n",
        "print(\"Float list:\", float_list)\n",
        "\n",
        "# Cast float list back to strings\n",
        "str_from_float = [str(num) for num in float_list]\n",
        "print(\"String list from floats:\", str_from_float)\n",
        "\n",
        "# Cast float list to int (removing decimal part)\n",
        "int_from_float = [int(num) for num in float_list]\n",
        "print(\"Integer list from floats (truncated):\", int_from_float)\n"
      ],
      "metadata": {
        "id": "97_ftLGrSjTS"
      },
      "execution_count": null,
      "outputs": []
    },
    {
      "cell_type": "markdown",
      "source": [
        "11.  Write a program that checks if a number is positive, negative, or zero."
      ],
      "metadata": {
        "id": "gieJSdtkStMl"
      }
    },
    {
      "cell_type": "code",
      "source": [
        "number=int(input(\"enter a number\"))\n",
        "if number>0:\n",
        "  print(\"number is positive\")\n",
        "elif number<0:\n",
        "  print(\"number is negative\")\n",
        "else:\n",
        "  print(\"number is zero\")"
      ],
      "metadata": {
        "id": "x76Aa4ZBSx2x"
      },
      "execution_count": null,
      "outputs": []
    },
    {
      "cell_type": "markdown",
      "source": [
        "12. Write a for loop to print numbers from 1 to 10."
      ],
      "metadata": {
        "id": "8UL5I6QPS6Ie"
      }
    },
    {
      "cell_type": "code",
      "source": [
        "for i in range (1,11):\n",
        "       print(i)"
      ],
      "metadata": {
        "colab": {
          "base_uri": "https://localhost:8080/"
        },
        "id": "StvwA5UJS-QO",
        "outputId": "358bb495-584b-4408-db18-2dcde622320c"
      },
      "execution_count": 11,
      "outputs": [
        {
          "output_type": "stream",
          "name": "stdout",
          "text": [
            "1\n",
            "2\n",
            "3\n",
            "4\n",
            "5\n",
            "6\n",
            "7\n",
            "8\n",
            "9\n"
          ]
        }
      ]
    },
    {
      "cell_type": "markdown",
      "source": [
        "13. Write a Python program to find the sum of all even numbers between 1 and 50."
      ],
      "metadata": {
        "id": "ilOVx5jETZ9l"
      }
    },
    {
      "cell_type": "code",
      "source": [
        "\n",
        "total_sum = 0\n",
        "for number in range(1, 51):\n",
        "    if number % 2 == 0:\n",
        "        total_sum += number\n",
        "print(\"The sum of all even numbers between 1 and 50 is:\", total_sum)\n"
      ],
      "metadata": {
        "id": "PtBF_GEGTmJN"
      },
      "execution_count": null,
      "outputs": []
    },
    {
      "cell_type": "markdown",
      "source": [
        "14.  Write a program to reverse a string using a while loop"
      ],
      "metadata": {
        "id": "4-h6agXGTy0y"
      }
    },
    {
      "cell_type": "code",
      "source": [
        "\n",
        "\n",
        "input_string = input(\"Enter a string: \")\n",
        "reversed_string = \"\"\n",
        "index = len(input_string) - 1\n",
        "\n",
        "while index >= 0:\n",
        "  reversed_string += input_string[index]\n",
        "  index -= 1\n",
        "\n",
        "print(\"Reversed string:\", reversed_string)\n"
      ],
      "metadata": {
        "id": "1bcFLsI5T_lj"
      },
      "execution_count": null,
      "outputs": []
    },
    {
      "cell_type": "markdown",
      "source": [
        "15. Write a Python program to calculate the factorial of a number provided by the user using a while loop."
      ],
      "metadata": {
        "id": "OMzgiZf2UHph"
      }
    },
    {
      "cell_type": "code",
      "source": [
        "\n",
        "\n",
        "num = int(input(\"Enter a number: \"))\n",
        "\n",
        "factorial = 1\n",
        "\n",
        "if num < 0:\n",
        "   print(\"Sorry, factorial does not exist for negative numbers\")\n",
        "elif num == 0:\n",
        "   print(\"The factorial of 0 is 1\")\n",
        "else:\n",
        "   i = 1\n",
        "   while i <= num:\n",
        "       factorial = factorial * i\n",
        "       i = i + 1\n",
        "   print(\"The factorial of\", num, \"is\", factorial)"
      ],
      "metadata": {
        "id": "RivXquTsULkS"
      },
      "execution_count": null,
      "outputs": []
    },
    {
      "cell_type": "markdown",
      "source": [
        "#complete"
      ],
      "metadata": {
        "id": "Z1uAN3TLUUH0"
      }
    },
    {
      "cell_type": "code",
      "source": [],
      "metadata": {
        "id": "HjoQJ6bTUYqZ"
      },
      "execution_count": null,
      "outputs": []
    }
  ]
}